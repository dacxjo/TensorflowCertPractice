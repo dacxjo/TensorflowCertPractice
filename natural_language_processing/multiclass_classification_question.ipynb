{
 "cells": [
  {
   "cell_type": "markdown",
   "metadata": {},
   "source": [
    "Copyright (c) 2023, Troy Phat Tran (Mr. Troy)."
   ]
  },
  {
   "cell_type": "markdown",
   "metadata": {},
   "source": [
    "Question:"
   ]
  },
  {
   "cell_type": "markdown",
   "metadata": {},
   "source": [
    "Build and train a binary classifier for the language classification dataset. The dataset is typically a JSON array<br>\n",
    "of 500 JSON objects. Each object has 3 keys: sentence, language_code, and is_english.<br>\n",
    "We want our model to be able to indicate which language a piece of text or a sentence is written in.<br>\n",
    "There are 5 languages need to be classified. Below is the language_code and its corresponding language name.<br>\n",
    "0: English<br>\n",
    "1: Vietnamese<br>\n",
    "2: Spanish<br>\n",
    "3: Portuguese<br>\n",
    "4: Italian"
   ]
  },
  {
   "cell_type": "markdown",
   "metadata": {},
   "source": [
    "Your task is to fill in the missing parts of the code block (where commented as \"ADD CODE HERE\")."
   ]
  },
  {
   "cell_type": "code",
   "execution_count": null,
   "metadata": {},
   "outputs": [],
   "source": [
    "import json\n",
    "import os"
   ]
  },
  {
   "cell_type": "code",
   "execution_count": null,
   "metadata": {},
   "outputs": [],
   "source": [
    "import numpy as np\n",
    "from keras import Sequential\n",
    "from keras.preprocessing.text import Tokenizer\n",
    "from keras.saving import load_model\n",
    "from keras.src.utils.data_utils import urlretrieve\n",
    "from keras.utils import pad_sequences"
   ]
  },
  {
   "cell_type": "code",
   "execution_count": null,
   "metadata": {},
   "outputs": [],
   "source": [
    "def nlp_multiclass_model():\n",
    "    # Download the dataset\n",
    "    json_file = 'language-classification.json'\n",
    "    if not os.path.exists(json_file):\n",
    "        url = 'https://trientran.github.io/tf-practice-exams/language-classification.json'\n",
    "        urlretrieve(url=url, filename=json_file)\n",
    "\n",
    "    # Parse the JSON file\n",
    "    with open(file=json_file, mode='r', encoding='utf-8') as f:\n",
    "        datastore = json.load(f)\n",
    "\n",
    "    # Extract texts and labels from JSON data\n",
    "    texts = []\n",
    "    labels = []\n",
    "    for item in datastore:\n",
    "        texts.append(item['sentence'])  # replace with the sentence/paragraph/text field in the real test JSON file\n",
    "        labels.append(item['language_code'])  # replace with the label field in the real test JSON file\n",
    "\n",
    "    # Predefined constants\n",
    "    max_length = 25\n",
    "    trunc_type = 'pre'  # Can be replaced with 'post'\n",
    "    vocab_size = 500\n",
    "    padding_type = 'pre'  # Can be replaced with 'post'\n",
    "    embedding_dim = 32\n",
    "    oov_tok = \"<OOV>\"\n",
    "\n",
    "    # Split the dataset into training and validation sets\n",
    "    num_samples = len(texts)\n",
    "    num_train_samples = int(0.8 * num_samples)\n",
    "    indices = np.random.permutation(num_samples)\n",
    "    train_indices = indices[:num_train_samples]\n",
    "    val_indices = indices[num_train_samples:]\n",
    "\n",
    "    # Tokenize the texts\n",
    "    tokenizer = Tokenizer(num_words=vocab_size, oov_token=oov_tok)\n",
    "    tokenizer.fit_on_texts(texts)\n",
    "    sequences = tokenizer.texts_to_sequences(texts)\n",
    "\n",
    "    # Pad the sequences\n",
    "    padded_sequences = pad_sequences(\n",
    "        sequences=sequences,\n",
    "        maxlen=max_length,\n",
    "        padding=padding_type,\n",
    "        truncating=trunc_type\n",
    "    )\n",
    "    padded_training_set = padded_sequences[train_indices]\n",
    "    padded_validation_set = padded_sequences[val_indices]\n",
    "\n",
    "    # Convert the labels to numpy array\n",
    "    labels = np.array(labels)\n",
    "    training_labels = labels[train_indices]\n",
    "    validation_labels = labels[val_indices]\n",
    "\n",
    "    # Define the number of classes\n",
    "    num_classes = len(set(labels))\n",
    "\n",
    "    # Define the model architecture\n",
    "    model = Sequential([\n",
    "        # ADD CODE HERE\n",
    "    ])\n",
    "\n",
    "    # Compile the model\n",
    "    # ADD CODE HERE\n",
    "\n",
    "    # Define an early stopping callback (optional)\n",
    "    # ADD CODE HERE\n",
    "\n",
    "    # Train the model\n",
    "    # ADD CODE HERE\n",
    "    return model"
   ]
  },
  {
   "cell_type": "markdown",
   "metadata": {},
   "source": [
    "===============DO NOT EDIT THIS PART================================"
   ]
  },
  {
   "cell_type": "code",
   "execution_count": null,
   "metadata": {},
   "outputs": [],
   "source": [
    "if __name__ == '__main__':\n",
    "    # Run and save your model\n",
    "    my_model = nlp_multiclass_model()\n",
    "    filepath = \"nlp_multiclass_model.h5\"\n",
    "    my_model.save(filepath)\n",
    "\n",
    "    # Reload the saved model\n",
    "    saved_model = load_model(filepath)\n",
    "\n",
    "    # Show the model architecture\n",
    "    saved_model.summary()"
   ]
  }
 ],
 "metadata": {
  "kernelspec": {
   "display_name": "Python 3",
   "language": "python",
   "name": "python3"
  },
  "language_info": {
   "codemirror_mode": {
    "name": "ipython",
    "version": 3
   },
   "file_extension": ".py",
   "mimetype": "text/x-python",
   "name": "python",
   "nbconvert_exporter": "python",
   "pygments_lexer": "ipython3",
   "version": "3.6.4"
  }
 },
 "nbformat": 4,
 "nbformat_minor": 2
}
