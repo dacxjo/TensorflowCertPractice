{
 "cells": [
  {
   "cell_type": "markdown",
   "metadata": {},
   "source": [
    "Copyright (c) 2023, Troy Phat Tran (Mr. Troy)."
   ]
  },
  {
   "cell_type": "markdown",
   "metadata": {},
   "source": [
    "Question:"
   ]
  },
  {
   "cell_type": "markdown",
   "metadata": {},
   "source": [
    "Build and train a binary classifier for the language classification dataset. The dataset is typically a JSON array<br>\n",
    "of 500 JSON objects. Each object has 3 keys: sentence, language_code, and is_english.<br>\n",
    "We want our model to be able to determine whether a piece of text is \"English or not\"."
   ]
  },
  {
   "cell_type": "markdown",
   "metadata": {},
   "source": [
    "Your task is to fill in the missing parts of the code block (where commented as \"ADD CODE HERE\")."
   ]
  },
  {
   "cell_type": "markdown",
   "metadata": {},
   "source": [
    "Note: the dataset is imbalanced as there are more non-English sentences than English ones. To keep things simple, <br>\n",
    "you don't need to handle data imbalance in this coding challenge."
   ]
  },
  {
   "cell_type": "code",
   "execution_count": 1,
   "metadata": {
    "ExecuteTime": {
     "end_time": "2024-04-13T15:19:28.611130Z",
     "start_time": "2024-04-13T15:19:28.609251Z"
    }
   },
   "outputs": [],
   "source": [
    "import json\n",
    "import os\n",
    "from urllib.request import urlretrieve"
   ]
  },
  {
   "cell_type": "code",
   "execution_count": 3,
   "metadata": {
    "ExecuteTime": {
     "end_time": "2024-04-13T15:21:47.462764Z",
     "start_time": "2024-04-13T15:21:47.457993Z"
    }
   },
   "outputs": [],
   "source": [
    "import numpy as np\n",
    "from keras import Sequential\n",
    "from keras.models import load_model\n",
    "from keras.preprocessing.text import Tokenizer\n",
    "from keras.utils import pad_sequences\n",
    "import tensorflow as tf"
   ]
  },
  {
   "cell_type": "code",
   "execution_count": 4,
   "metadata": {
    "ExecuteTime": {
     "end_time": "2024-04-13T15:24:05.033239Z",
     "start_time": "2024-04-13T15:24:05.030644Z"
    }
   },
   "outputs": [],
   "source": [
    "def nlp_binary_model():\n",
    "    # Download the dataset\n",
    "    json_file = 'language-classification.json'\n",
    "    if not os.path.exists(json_file):\n",
    "        url = 'https://trientran.github.io/tf-practice-exams/language-classification.json'\n",
    "        urlretrieve(url=url, filename=json_file)\n",
    "\n",
    "    # Parse the JSON file\n",
    "    with open(file=json_file, mode='r', encoding='utf-8') as f:\n",
    "        datastore = json.load(f)\n",
    "\n",
    "    # Extract texts and labels from JSON data\n",
    "    texts = []\n",
    "    labels = []\n",
    "    for item in datastore:\n",
    "        texts.append(item['sentence'])  # replace with the sentence/paragraph/text field in the real test JSON file\n",
    "        labels.append(item['is_english'])  # replace with the label field in the real test JSON file\n",
    "\n",
    "    # Predefined constants\n",
    "    max_length = 25\n",
    "    trunc_type = 'pre'  # Can be replaced with 'post'\n",
    "    vocab_size = 500\n",
    "    padding_type = 'pre'  # Can be replaced with 'post'\n",
    "    embedding_dim = 32\n",
    "    oov_tok = \"<OOV>\"\n",
    "\n",
    "    # Split the dataset into training and validation sets\n",
    "    num_samples = len(texts)\n",
    "    num_train_samples = int(0.8 * num_samples)\n",
    "    indices = np.random.permutation(num_samples)\n",
    "    train_indices = indices[:num_train_samples]\n",
    "    val_indices = indices[num_train_samples:]\n",
    "\n",
    "    # Tokenize the texts\n",
    "    tokenizer = Tokenizer(num_words=vocab_size, oov_token=oov_tok)\n",
    "    tokenizer.fit_on_texts(texts)\n",
    "    sequences = tokenizer.texts_to_sequences(texts)\n",
    "\n",
    "    # Pad the sequences\n",
    "    padded_sequences = pad_sequences(\n",
    "        sequences=sequences,\n",
    "        maxlen=max_length,\n",
    "        padding=padding_type,\n",
    "        truncating=trunc_type\n",
    "    )\n",
    "    padded_training_set = padded_sequences[train_indices]\n",
    "    padded_validation_set = padded_sequences[val_indices]\n",
    "\n",
    "    # Convert the labels to numpy array\n",
    "    training_labels = np.array(labels)[train_indices]\n",
    "    validation_labels = np.array(labels)[val_indices]\n",
    "\n",
    "    # Define the model architecture\n",
    "    model = Sequential([\n",
    "        tf.keras.layers.Embedding(vocab_size, embedding_dim, input_length=max_length),\n",
    "        tf.keras.layers.Bidirectional(tf.keras.layers.LSTM(32)),\n",
    "        tf.keras.layers.Dense(24, activation='relu'),\n",
    "        tf.keras.layers.Dense(1, activation='sigmoid')\n",
    "    ])\n",
    "\n",
    "    # Compile the model\n",
    "    model.compile(loss='binary_crossentropy', optimizer='adam', metrics=['accuracy'])\n",
    "\n",
    "    # Define an early stopping callback (optional)\n",
    "    early_stopping = tf.keras.callbacks.EarlyStopping(monitor=\"val_loss\", patience=5)\n",
    "\n",
    "    # Train the model\n",
    "    model.fit(padded_training_set, training_labels, validation_data=(padded_validation_set, validation_labels), epochs=50, callbacks=[early_stopping])\n",
    "    return model"
   ]
  },
  {
   "cell_type": "markdown",
   "metadata": {},
   "source": [
    "===============DO NOT EDIT THIS PART================================"
   ]
  },
  {
   "cell_type": "code",
   "execution_count": 5,
   "metadata": {
    "ExecuteTime": {
     "end_time": "2024-04-13T15:24:51.937416Z",
     "start_time": "2024-04-13T15:24:05.993794Z"
    }
   },
   "outputs": [
    {
     "name": "stdout",
     "output_type": "stream",
     "text": [
      "Epoch 1/50\n",
      "13/13 [==============================] - 18s 654ms/step - loss: 0.6608 - accuracy: 0.7425 - val_loss: 0.6084 - val_accuracy: 0.8200\n",
      "Epoch 2/50\n",
      "13/13 [==============================] - 2s 117ms/step - loss: 0.5499 - accuracy: 0.7950 - val_loss: 0.4446 - val_accuracy: 0.8200\n",
      "Epoch 3/50\n",
      "13/13 [==============================] - 2s 117ms/step - loss: 0.4848 - accuracy: 0.7950 - val_loss: 0.4269 - val_accuracy: 0.8200\n",
      "Epoch 4/50\n",
      "13/13 [==============================] - 1s 117ms/step - loss: 0.4264 - accuracy: 0.7950 - val_loss: 0.3433 - val_accuracy: 0.8200\n",
      "Epoch 5/50\n",
      "13/13 [==============================] - 1s 56ms/step - loss: 0.3056 - accuracy: 0.8075 - val_loss: 0.1997 - val_accuracy: 0.8900\n",
      "Epoch 6/50\n",
      "13/13 [==============================] - 1s 70ms/step - loss: 0.1502 - accuracy: 0.9500 - val_loss: 0.0808 - val_accuracy: 0.9900\n",
      "Epoch 7/50\n",
      "13/13 [==============================] - 1s 54ms/step - loss: 0.0549 - accuracy: 0.9975 - val_loss: 0.0179 - val_accuracy: 1.0000\n",
      "Epoch 8/50\n",
      "13/13 [==============================] - 1s 53ms/step - loss: 0.0123 - accuracy: 1.0000 - val_loss: 0.0759 - val_accuracy: 0.9800\n",
      "Epoch 9/50\n",
      "13/13 [==============================] - 1s 53ms/step - loss: 0.0332 - accuracy: 0.9875 - val_loss: 0.0149 - val_accuracy: 1.0000\n",
      "Epoch 10/50\n",
      "13/13 [==============================] - 1s 53ms/step - loss: 0.0126 - accuracy: 0.9975 - val_loss: 0.0063 - val_accuracy: 1.0000\n",
      "Epoch 11/50\n",
      "13/13 [==============================] - 0s 38ms/step - loss: 0.0083 - accuracy: 0.9975 - val_loss: 0.0232 - val_accuracy: 1.0000\n",
      "Epoch 12/50\n",
      "13/13 [==============================] - 1s 54ms/step - loss: 0.0074 - accuracy: 1.0000 - val_loss: 0.0078 - val_accuracy: 1.0000\n",
      "Epoch 13/50\n",
      "13/13 [==============================] - 1s 53ms/step - loss: 0.0037 - accuracy: 1.0000 - val_loss: 0.0049 - val_accuracy: 1.0000\n",
      "Epoch 14/50\n",
      "13/13 [==============================] - 1s 53ms/step - loss: 0.0027 - accuracy: 1.0000 - val_loss: 0.0034 - val_accuracy: 1.0000\n",
      "Epoch 15/50\n",
      "13/13 [==============================] - 1s 53ms/step - loss: 0.0019 - accuracy: 1.0000 - val_loss: 0.0028 - val_accuracy: 1.0000\n",
      "Epoch 16/50\n",
      "13/13 [==============================] - 0s 37ms/step - loss: 0.0014 - accuracy: 1.0000 - val_loss: 0.0023 - val_accuracy: 1.0000\n",
      "Epoch 17/50\n",
      "13/13 [==============================] - 0s 37ms/step - loss: 0.0012 - accuracy: 1.0000 - val_loss: 0.0020 - val_accuracy: 1.0000\n",
      "Epoch 18/50\n",
      "13/13 [==============================] - 0s 21ms/step - loss: 9.7058e-04 - accuracy: 1.0000 - val_loss: 0.0017 - val_accuracy: 1.0000\n",
      "Epoch 19/50\n",
      "13/13 [==============================] - 1s 53ms/step - loss: 8.4045e-04 - accuracy: 1.0000 - val_loss: 0.0015 - val_accuracy: 1.0000\n",
      "Epoch 20/50\n",
      "13/13 [==============================] - 0s 37ms/step - loss: 7.3561e-04 - accuracy: 1.0000 - val_loss: 0.0013 - val_accuracy: 1.0000\n",
      "Epoch 21/50\n",
      "13/13 [==============================] - 0s 37ms/step - loss: 6.3697e-04 - accuracy: 1.0000 - val_loss: 0.0011 - val_accuracy: 1.0000\n",
      "Epoch 22/50\n",
      "13/13 [==============================] - 0s 37ms/step - loss: 5.7170e-04 - accuracy: 1.0000 - val_loss: 0.0010 - val_accuracy: 1.0000\n",
      "Epoch 23/50\n",
      "13/13 [==============================] - 0s 21ms/step - loss: 5.1637e-04 - accuracy: 1.0000 - val_loss: 9.6817e-04 - val_accuracy: 1.0000\n",
      "Epoch 24/50\n",
      "13/13 [==============================] - 0s 24ms/step - loss: 4.6932e-04 - accuracy: 1.0000 - val_loss: 8.6829e-04 - val_accuracy: 1.0000\n",
      "Epoch 25/50\n",
      "13/13 [==============================] - 1s 86ms/step - loss: 4.2631e-04 - accuracy: 1.0000 - val_loss: 8.1639e-04 - val_accuracy: 1.0000\n",
      "Epoch 26/50\n",
      "13/13 [==============================] - 0s 37ms/step - loss: 3.9030e-04 - accuracy: 1.0000 - val_loss: 7.5691e-04 - val_accuracy: 1.0000\n",
      "Epoch 27/50\n",
      "13/13 [==============================] - 0s 37ms/step - loss: 3.6423e-04 - accuracy: 1.0000 - val_loss: 6.8356e-04 - val_accuracy: 1.0000\n",
      "Epoch 28/50\n",
      "13/13 [==============================] - 0s 37ms/step - loss: 3.3718e-04 - accuracy: 1.0000 - val_loss: 6.3927e-04 - val_accuracy: 1.0000\n",
      "Epoch 29/50\n",
      "13/13 [==============================] - 0s 21ms/step - loss: 3.1357e-04 - accuracy: 1.0000 - val_loss: 6.0384e-04 - val_accuracy: 1.0000\n",
      "Epoch 30/50\n",
      "13/13 [==============================] - 0s 21ms/step - loss: 2.9264e-04 - accuracy: 1.0000 - val_loss: 5.8672e-04 - val_accuracy: 1.0000\n",
      "Epoch 31/50\n",
      "13/13 [==============================] - 0s 37ms/step - loss: 2.7677e-04 - accuracy: 1.0000 - val_loss: 5.7001e-04 - val_accuracy: 1.0000\n",
      "Epoch 32/50\n",
      "13/13 [==============================] - 0s 24ms/step - loss: 2.5939e-04 - accuracy: 1.0000 - val_loss: 5.2208e-04 - val_accuracy: 1.0000\n",
      "Epoch 33/50\n",
      "13/13 [==============================] - 0s 21ms/step - loss: 2.4555e-04 - accuracy: 1.0000 - val_loss: 4.9945e-04 - val_accuracy: 1.0000\n",
      "Epoch 34/50\n",
      "13/13 [==============================] - 0s 38ms/step - loss: 2.3187e-04 - accuracy: 1.0000 - val_loss: 4.6151e-04 - val_accuracy: 1.0000\n",
      "Epoch 35/50\n",
      "13/13 [==============================] - 0s 21ms/step - loss: 2.1798e-04 - accuracy: 1.0000 - val_loss: 4.4351e-04 - val_accuracy: 1.0000\n",
      "Epoch 36/50\n",
      "13/13 [==============================] - 1s 40ms/step - loss: 2.0796e-04 - accuracy: 1.0000 - val_loss: 4.1956e-04 - val_accuracy: 1.0000\n",
      "Epoch 37/50\n",
      "13/13 [==============================] - 0s 20ms/step - loss: 1.9751e-04 - accuracy: 1.0000 - val_loss: 4.3557e-04 - val_accuracy: 1.0000\n",
      "Epoch 38/50\n",
      "13/13 [==============================] - 0s 21ms/step - loss: 1.8840e-04 - accuracy: 1.0000 - val_loss: 4.1363e-04 - val_accuracy: 1.0000\n",
      "Epoch 39/50\n",
      "13/13 [==============================] - 0s 37ms/step - loss: 1.7833e-04 - accuracy: 1.0000 - val_loss: 3.9330e-04 - val_accuracy: 1.0000\n",
      "Epoch 40/50\n",
      "13/13 [==============================] - 0s 37ms/step - loss: 1.7127e-04 - accuracy: 1.0000 - val_loss: 3.6514e-04 - val_accuracy: 1.0000\n",
      "Epoch 41/50\n",
      "13/13 [==============================] - 0s 20ms/step - loss: 1.6299e-04 - accuracy: 1.0000 - val_loss: 3.4798e-04 - val_accuracy: 1.0000\n",
      "Epoch 42/50\n",
      "13/13 [==============================] - 0s 20ms/step - loss: 1.5641e-04 - accuracy: 1.0000 - val_loss: 3.4280e-04 - val_accuracy: 1.0000\n",
      "Epoch 43/50\n",
      "13/13 [==============================] - 0s 36ms/step - loss: 1.4900e-04 - accuracy: 1.0000 - val_loss: 3.2594e-04 - val_accuracy: 1.0000\n",
      "Epoch 44/50\n",
      "13/13 [==============================] - 0s 20ms/step - loss: 1.4269e-04 - accuracy: 1.0000 - val_loss: 3.1584e-04 - val_accuracy: 1.0000\n",
      "Epoch 45/50\n",
      "13/13 [==============================] - 0s 20ms/step - loss: 1.3812e-04 - accuracy: 1.0000 - val_loss: 3.0160e-04 - val_accuracy: 1.0000\n",
      "Epoch 46/50\n",
      "13/13 [==============================] - 0s 20ms/step - loss: 1.3203e-04 - accuracy: 1.0000 - val_loss: 2.9512e-04 - val_accuracy: 1.0000\n",
      "Epoch 47/50\n",
      "13/13 [==============================] - 1s 53ms/step - loss: 1.2690e-04 - accuracy: 1.0000 - val_loss: 2.8251e-04 - val_accuracy: 1.0000\n",
      "Epoch 48/50\n",
      "13/13 [==============================] - 0s 20ms/step - loss: 1.2282e-04 - accuracy: 1.0000 - val_loss: 2.7266e-04 - val_accuracy: 1.0000\n",
      "Epoch 49/50\n",
      "13/13 [==============================] - 0s 21ms/step - loss: 1.1735e-04 - accuracy: 1.0000 - val_loss: 2.6543e-04 - val_accuracy: 1.0000\n",
      "Epoch 50/50\n",
      "13/13 [==============================] - 0s 20ms/step - loss: 1.1444e-04 - accuracy: 1.0000 - val_loss: 2.4817e-04 - val_accuracy: 1.0000\n"
     ]
    },
    {
     "name": "stderr",
     "output_type": "stream",
     "text": [
      "/opt/anaconda3/envs/tensorflow/lib/python3.10/site-packages/keras/src/engine/training.py:3103: UserWarning: You are saving your model as an HDF5 file via `model.save()`. This file format is considered legacy. We recommend using instead the native Keras format, e.g. `model.save('my_model.keras')`.\n",
      "  saving_api.save_model(\n"
     ]
    },
    {
     "name": "stdout",
     "output_type": "stream",
     "text": [
      "Model: \"sequential\"\n",
      "_________________________________________________________________\n",
      " Layer (type)                Output Shape              Param #   \n",
      "=================================================================\n",
      " embedding (Embedding)       (None, 25, 32)            16000     \n",
      "                                                                 \n",
      " bidirectional (Bidirection  (None, 64)                16640     \n",
      " al)                                                             \n",
      "                                                                 \n",
      " dense (Dense)               (None, 24)                1560      \n",
      "                                                                 \n",
      " dense_1 (Dense)             (None, 1)                 25        \n",
      "                                                                 \n",
      "=================================================================\n",
      "Total params: 34225 (133.69 KB)\n",
      "Trainable params: 34225 (133.69 KB)\n",
      "Non-trainable params: 0 (0.00 Byte)\n",
      "_________________________________________________________________\n"
     ]
    }
   ],
   "source": [
    "if __name__ == '__main__':\n",
    "    # Run and save your model\n",
    "    my_model = nlp_binary_model()\n",
    "    filepath = \"nlp_binary_model.h5\"\n",
    "    my_model.save(filepath)\n",
    "\n",
    "    # Reload the saved model\n",
    "    saved_model = load_model(filepath)\n",
    "\n",
    "    # Show the model architecture\n",
    "    saved_model.summary()"
   ]
  },
  {
   "cell_type": "code",
   "outputs": [],
   "source": [],
   "metadata": {
    "collapsed": false
   }
  }
 ],
 "metadata": {
  "kernelspec": {
   "display_name": "Python 3",
   "language": "python",
   "name": "python3"
  },
  "language_info": {
   "codemirror_mode": {
    "name": "ipython",
    "version": 3
   },
   "file_extension": ".py",
   "mimetype": "text/x-python",
   "name": "python",
   "nbconvert_exporter": "python",
   "pygments_lexer": "ipython3",
   "version": "3.6.4"
  }
 },
 "nbformat": 4,
 "nbformat_minor": 2
}
