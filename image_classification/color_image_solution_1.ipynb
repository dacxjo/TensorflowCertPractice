{
 "cells": [
  {
   "cell_type": "markdown",
   "metadata": {},
   "source": [
    "Copyright (c) 2023, Troy Phat Tran (Mr. Troy)."
   ]
  },
  {
   "cell_type": "markdown",
   "metadata": {},
   "source": [
    "Binary (2-classes) image classification dataset: apple-banana.<br>\n",
    "Direct link:<br>\n",
    "http://dl.dropboxusercontent.com/scl/fi/mw43x41744wfykvm8fljx/apple-banana.zip?rlkey=ghmo9zf2rpza2uq9xbf7jpe3e&dl=0<br>\n",
    "(~7.6 Megabytes)<br>\n",
    "Backup direct link: https://trientran.github.io/tf-practice-exams/apple-banana.zip"
   ]
  },
  {
   "cell_type": "markdown",
   "metadata": {},
   "source": [
    "This dataset comprises 2 classes namely Apple and Banana, and it has been split into training and validation sets.<br>\n",
    "Create a classifier for the given dataset. The required input shape must be 100x100x3 (RGB images)."
   ]
  },
  {
   "cell_type": "markdown",
   "metadata": {},
   "source": [
    "Your task is to fill in the missing parts of the code block (where commented as \"ADD CODE HERE\")."
   ]
  },
  {
   "cell_type": "code",
   "execution_count": null,
   "metadata": {},
   "outputs": [],
   "source": [
    "import os\n",
    "import zipfile\n",
    "from urllib.request import urlretrieve"
   ]
  },
  {
   "cell_type": "code",
   "execution_count": null,
   "metadata": {},
   "outputs": [],
   "source": [
    "from keras import Sequential\n",
    "from keras.callbacks import EarlyStopping\n",
    "from keras.layers import Conv2D, MaxPooling2D, Flatten, Dense\n",
    "from keras.models import load_model\n",
    "from keras.utils import image_dataset_from_directory\n",
    "from tensorflow import cast, float32\n",
    "from tensorflow.python.data import AUTOTUNE"
   ]
  },
  {
   "cell_type": "markdown",
   "metadata": {},
   "source": [
    "A function to rescale/normalize images"
   ]
  },
  {
   "cell_type": "code",
   "execution_count": null,
   "metadata": {},
   "outputs": [],
   "source": [
    "def rescale(image, label):\n",
    "    image = cast(image, float32) / 255.0\n",
    "    return image, label"
   ]
  },
  {
   "cell_type": "code",
   "execution_count": null,
   "metadata": {},
   "outputs": [],
   "source": [
    "def binary_model():\n",
    "    # Define a data folder to extract our compressed dataset to\n",
    "    data_folder = 'apple-banana/'\n",
    "\n",
    "    # Download and extract the dataset if not existing\n",
    "    if not os.path.exists(data_folder):\n",
    "        dataset_url = 'http://dl.dropboxusercontent.com/scl/fi/mw43x41744wfykvm8fljx/apple-banana.zip?rlkey=ghmo9zf2rpza2uq9xbf7jpe3e&dl=0'\n",
    "        local_zip = 'apple-banana.zip'\n",
    "        urlretrieve(url=dataset_url, filename=local_zip)\n",
    "        zip_ref = zipfile.ZipFile(file=local_zip, mode='r')\n",
    "        zip_ref.extractall(data_folder)\n",
    "        zip_ref.close()\n",
    "\n",
    "    # Define image size and batch size\n",
    "    img_size = (100, 100)\n",
    "    batch_size = 32\n",
    "\n",
    "    # Create the training dataset\n",
    "    # The dataset is already split into training and validation sets\n",
    "    train_ds = image_dataset_from_directory(\n",
    "        directory=\"apple-banana/train/\",\n",
    "        seed=1,\n",
    "        image_size=img_size,\n",
    "        batch_size=batch_size\n",
    "    )\n",
    "\n",
    "    # Create the validation dataset\n",
    "    val_ds = image_dataset_from_directory(\n",
    "        directory=\"apple-banana/validation/\",\n",
    "        seed=1,\n",
    "        image_size=img_size,\n",
    "        batch_size=batch_size\n",
    "    )\n",
    "\n",
    "    # Rescale images (option 1)\n",
    "    train_ds = train_ds.map(rescale, num_parallel_calls=AUTOTUNE)\n",
    "    val_ds = val_ds.map(rescale, num_parallel_calls=AUTOTUNE)\n",
    "\n",
    "    # Configure the dataset for performance\n",
    "    # https://www.tensorflow.org/tutorials/images/classification\n",
    "    train_ds = train_ds.cache().shuffle(1000).prefetch(buffer_size=AUTOTUNE)\n",
    "    val_ds = val_ds.cache().prefetch(buffer_size=AUTOTUNE)\n",
    "\n",
    "    # Define the model architecture\n",
    "    model = Sequential([\n",
    "        # Rescaling(1. / 255, input_shape=(img_size[0], img_size[1], 3)),  # Rescale images (option 2)\n",
    "        # ADD CODE HERE\n",
    "        Conv2D(filters=32, kernel_size=(3, 3), activation='relu', input_shape=(img_size[0], img_size[1], 3)),\n",
    "        MaxPooling2D(pool_size=(2, 2)),\n",
    "        Conv2D(filters=64, kernel_size=(3, 3), activation='relu'),\n",
    "        MaxPooling2D(pool_size=(2, 2)),\n",
    "        Flatten(),\n",
    "        Dense(units=64, activation='relu'),\n",
    "        Dense(1, activation='sigmoid')\n",
    "    ])\n",
    "\n",
    "    # Compile the model\n",
    "    # ADD CODE HERE\n",
    "    model.compile(optimizer='adam', loss='binary_crossentropy', metrics=['accuracy'])\n",
    "\n",
    "    # Define the early stopping callback for val_accuracy\n",
    "    # ADD CODE HERE\n",
    "    early_stop = EarlyStopping(monitor='val_accuracy', patience=5, verbose=1, min_delta=0.01)\n",
    "\n",
    "    # Show the model architecture (optional)\n",
    "    summarize_model(model)\n",
    "\n",
    "    # Train the model with early stopping callback\n",
    "    # ADD CODE HERE\n",
    "    model.fit(x=train_ds, epochs=5, validation_data=val_ds, callbacks=[early_stop])\n",
    "    return model"
   ]
  },
  {
   "cell_type": "markdown",
   "metadata": {},
   "source": [
    "===============DO NOT EDIT THIS PART================================"
   ]
  },
  {
   "cell_type": "code",
   "execution_count": null,
   "metadata": {},
   "outputs": [],
   "source": [
    "def summarize_model(model):\n",
    "    model.summary()\n",
    "    input_shape = model.layers[0].input_shape\n",
    "    print(f'Input shape: {input_shape}')"
   ]
  },
  {
   "cell_type": "code",
   "execution_count": null,
   "metadata": {},
   "outputs": [],
   "source": [
    "if __name__ == '__main__':\n",
    "    # Run and save your model\n",
    "    my_model = binary_model()\n",
    "    filepath = \"binary_rgb_model.h5\"\n",
    "    my_model.save(filepath)\n",
    "\n",
    "    # Reload the saved model\n",
    "    saved_model = load_model(filepath)\n",
    "    summarize_model(saved_model)"
   ]
  }
 ],
 "metadata": {
  "kernelspec": {
   "display_name": "Python 3",
   "language": "python",
   "name": "python3"
  },
  "language_info": {
   "codemirror_mode": {
    "name": "ipython",
    "version": 3
   },
   "file_extension": ".py",
   "mimetype": "text/x-python",
   "name": "python",
   "nbconvert_exporter": "python",
   "pygments_lexer": "ipython3",
   "version": "3.6.4"
  }
 },
 "nbformat": 4,
 "nbformat_minor": 2
}
